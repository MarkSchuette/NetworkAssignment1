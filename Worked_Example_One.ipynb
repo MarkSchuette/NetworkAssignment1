{
 "cells": [
  {
   "cell_type": "markdown",
   "metadata": {},
   "source": [
    "<h1>Worked example one <h1>\n",
    " "
   ]
  },
  {
   "cell_type": "markdown",
   "metadata": {},
   "source": [
    "import statement"
   ]
  },
  {
   "cell_type": "code",
   "execution_count": 13,
   "metadata": {},
   "outputs": [],
   "source": [
    "import pandas as pd\n",
    "import numpy as np\n",
    "import networkx as nx\n",
    "import matplotlib.pyplot as plt\n",
    "from ipywidgets import interact, Select\n",
    "from IPython.display import display\n"
   ]
  },
  {
   "cell_type": "markdown",
   "metadata": {},
   "source": [
    "Importing the csv file as a dataset"
   ]
  },
  {
   "cell_type": "code",
   "execution_count": 14,
   "metadata": {},
   "outputs": [],
   "source": [
    "df= pd.read_csv('datasets\\dataset.csv')"
   ]
  },
  {
   "cell_type": "markdown",
   "metadata": {},
   "source": [
    "Displaying the dataset"
   ]
  },
  {
   "cell_type": "code",
   "execution_count": 15,
   "metadata": {},
   "outputs": [
    {
     "data": {
      "text/html": [
       "<div>\n",
       "<style scoped>\n",
       "    .dataframe tbody tr th:only-of-type {\n",
       "        vertical-align: middle;\n",
       "    }\n",
       "\n",
       "    .dataframe tbody tr th {\n",
       "        vertical-align: top;\n",
       "    }\n",
       "\n",
       "    .dataframe thead th {\n",
       "        text-align: right;\n",
       "    }\n",
       "</style>\n",
       "<table border=\"1\" class=\"dataframe\">\n",
       "  <thead>\n",
       "    <tr style=\"text-align: right;\">\n",
       "      <th></th>\n",
       "      <th>user_id</th>\n",
       "      <th>number_of_ticks</th>\n",
       "      <th>date_created</th>\n",
       "      <th>chapter</th>\n",
       "      <th>book</th>\n",
       "      <th>numberofentriesofbook</th>\n",
       "      <th>numberofusersofbook</th>\n",
       "      <th>product_manning_id</th>\n",
       "      <th>user_owns_book</th>\n",
       "    </tr>\n",
       "  </thead>\n",
       "  <tbody>\n",
       "    <tr>\n",
       "      <th>0</th>\n",
       "      <td>-2147277864</td>\n",
       "      <td>1</td>\n",
       "      <td>\"2019-10-27 08:58:15\"</td>\n",
       "      <td>chapter-8</td>\n",
       "      <td>bhargava</td>\n",
       "      <td>888</td>\n",
       "      <td>440</td>\n",
       "      <td>610</td>\n",
       "      <td>1</td>\n",
       "    </tr>\n",
       "    <tr>\n",
       "      <th>1</th>\n",
       "      <td>-2146355313</td>\n",
       "      <td>8</td>\n",
       "      <td>\"2019-12-14 10:05:50\"</td>\n",
       "      <td>chapter-8</td>\n",
       "      <td>fain3</td>\n",
       "      <td>737</td>\n",
       "      <td>225</td>\n",
       "      <td>1069</td>\n",
       "      <td>1</td>\n",
       "    </tr>\n",
       "    <tr>\n",
       "      <th>2</th>\n",
       "      <td>-2146355313</td>\n",
       "      <td>8</td>\n",
       "      <td>\"2019-12-14 10:05:50\"</td>\n",
       "      <td>chapter-1</td>\n",
       "      <td>ramamurthy</td>\n",
       "      <td>715</td>\n",
       "      <td>202</td>\n",
       "      <td>1120</td>\n",
       "      <td>1</td>\n",
       "    </tr>\n",
       "    <tr>\n",
       "      <th>3</th>\n",
       "      <td>-2146355313</td>\n",
       "      <td>8</td>\n",
       "      <td>\"2019-12-14 10:05:50\"</td>\n",
       "      <td>chapter-1</td>\n",
       "      <td>thomas</td>\n",
       "      <td>445</td>\n",
       "      <td>136</td>\n",
       "      <td>816</td>\n",
       "      <td>1</td>\n",
       "    </tr>\n",
       "    <tr>\n",
       "      <th>4</th>\n",
       "      <td>-2146168866</td>\n",
       "      <td>2</td>\n",
       "      <td>\"2019-11-27 05:09:29\"</td>\n",
       "      <td>about-this-book</td>\n",
       "      <td>prasanna</td>\n",
       "      <td>21</td>\n",
       "      <td>14</td>\n",
       "      <td>273</td>\n",
       "      <td>0</td>\n",
       "    </tr>\n",
       "    <tr>\n",
       "      <th>...</th>\n",
       "      <td>...</td>\n",
       "      <td>...</td>\n",
       "      <td>...</td>\n",
       "      <td>...</td>\n",
       "      <td>...</td>\n",
       "      <td>...</td>\n",
       "      <td>...</td>\n",
       "      <td>...</td>\n",
       "      <td>...</td>\n",
       "    </tr>\n",
       "    <tr>\n",
       "      <th>4994</th>\n",
       "      <td>-2019295583</td>\n",
       "      <td>15</td>\n",
       "      <td>\"2019-12-07 22:02:29\"</td>\n",
       "      <td>chapter-1</td>\n",
       "      <td>roestenburg</td>\n",
       "      <td>344</td>\n",
       "      <td>65</td>\n",
       "      <td>486</td>\n",
       "      <td>0</td>\n",
       "    </tr>\n",
       "    <tr>\n",
       "      <th>4995</th>\n",
       "      <td>-2019295583</td>\n",
       "      <td>3</td>\n",
       "      <td>\"2019-11-26 07:44:44\"</td>\n",
       "      <td>chapter-1</td>\n",
       "      <td>urma2</td>\n",
       "      <td>2210</td>\n",
       "      <td>500</td>\n",
       "      <td>786</td>\n",
       "      <td>1</td>\n",
       "    </tr>\n",
       "    <tr>\n",
       "      <th>4996</th>\n",
       "      <td>-2019295583</td>\n",
       "      <td>2</td>\n",
       "      <td>\"2019-11-26 07:46:14\"</td>\n",
       "      <td>chapter-1</td>\n",
       "      <td>urma2</td>\n",
       "      <td>2210</td>\n",
       "      <td>500</td>\n",
       "      <td>786</td>\n",
       "      <td>1</td>\n",
       "    </tr>\n",
       "    <tr>\n",
       "      <th>4997</th>\n",
       "      <td>-2019295583</td>\n",
       "      <td>5</td>\n",
       "      <td>\"2019-11-12 13:47:10\"</td>\n",
       "      <td>chapter-7</td>\n",
       "      <td>urma2</td>\n",
       "      <td>2210</td>\n",
       "      <td>500</td>\n",
       "      <td>786</td>\n",
       "      <td>1</td>\n",
       "    </tr>\n",
       "    <tr>\n",
       "      <th>4998</th>\n",
       "      <td>-2019295583</td>\n",
       "      <td>24</td>\n",
       "      <td>\"2019-11-28 07:35:47\"</td>\n",
       "      <td>chapter-3</td>\n",
       "      <td>urma2</td>\n",
       "      <td>2210</td>\n",
       "      <td>500</td>\n",
       "      <td>786</td>\n",
       "      <td>1</td>\n",
       "    </tr>\n",
       "  </tbody>\n",
       "</table>\n",
       "<p>4999 rows × 9 columns</p>\n",
       "</div>"
      ],
      "text/plain": [
       "         user_id  number_of_ticks            date_created          chapter  \\\n",
       "0    -2147277864                1   \"2019-10-27 08:58:15\"        chapter-8   \n",
       "1    -2146355313                8   \"2019-12-14 10:05:50\"        chapter-8   \n",
       "2    -2146355313                8   \"2019-12-14 10:05:50\"        chapter-1   \n",
       "3    -2146355313                8   \"2019-12-14 10:05:50\"        chapter-1   \n",
       "4    -2146168866                2   \"2019-11-27 05:09:29\"  about-this-book   \n",
       "...          ...              ...                     ...              ...   \n",
       "4994 -2019295583               15   \"2019-12-07 22:02:29\"        chapter-1   \n",
       "4995 -2019295583                3   \"2019-11-26 07:44:44\"        chapter-1   \n",
       "4996 -2019295583                2   \"2019-11-26 07:46:14\"        chapter-1   \n",
       "4997 -2019295583                5   \"2019-11-12 13:47:10\"        chapter-7   \n",
       "4998 -2019295583               24   \"2019-11-28 07:35:47\"        chapter-3   \n",
       "\n",
       "             book  numberofentriesofbook  numberofusersofbook  \\\n",
       "0        bhargava                    888                  440   \n",
       "1           fain3                    737                  225   \n",
       "2      ramamurthy                    715                  202   \n",
       "3          thomas                    445                  136   \n",
       "4        prasanna                     21                   14   \n",
       "...           ...                    ...                  ...   \n",
       "4994  roestenburg                    344                   65   \n",
       "4995        urma2                   2210                  500   \n",
       "4996        urma2                   2210                  500   \n",
       "4997        urma2                   2210                  500   \n",
       "4998        urma2                   2210                  500   \n",
       "\n",
       "      product_manning_id  user_owns_book  \n",
       "0                    610               1  \n",
       "1                   1069               1  \n",
       "2                   1120               1  \n",
       "3                    816               1  \n",
       "4                    273               0  \n",
       "...                  ...             ...  \n",
       "4994                 486               0  \n",
       "4995                 786               1  \n",
       "4996                 786               1  \n",
       "4997                 786               1  \n",
       "4998                 786               1  \n",
       "\n",
       "[4999 rows x 9 columns]"
      ]
     },
     "execution_count": 15,
     "metadata": {},
     "output_type": "execute_result"
    }
   ],
   "source": [
    "df"
   ]
  },
  {
   "cell_type": "markdown",
   "metadata": {},
   "source": [
    "Creating the edgelist: step one sort by id and datecreated"
   ]
  },
  {
   "cell_type": "code",
   "execution_count": 16,
   "metadata": {},
   "outputs": [],
   "source": [
    "df=df.sort_values(by=['user_id','date_created'])\n"
   ]
  },
  {
   "cell_type": "markdown",
   "metadata": {},
   "source": [
    "Set the book column to equal the source column"
   ]
  },
  {
   "cell_type": "code",
   "execution_count": 17,
   "metadata": {},
   "outputs": [],
   "source": [
    "df[\"source\"] =df[\"book\"]"
   ]
  },
  {
   "cell_type": "markdown",
   "metadata": {},
   "source": [
    "Shift columns up to create target and user check"
   ]
  },
  {
   "cell_type": "code",
   "execution_count": 18,
   "metadata": {},
   "outputs": [],
   "source": [
    "df[\"target\"]= df[\"source\"].shift(-1)  \n",
    "df[\"user_check\"]= df[\"user_id\"].shift(-1)"
   ]
  },
  {
   "cell_type": "markdown",
   "metadata": {},
   "source": [
    "Drop rows where the user_id is not equal to the id_check"
   ]
  },
  {
   "cell_type": "code",
   "execution_count": 19,
   "metadata": {},
   "outputs": [],
   "source": [
    "df['keep_drop'] = np.where((df['user_check'] == df['user_id'])\n",
    "                     , df['user_id'], np.nan)"
   ]
  },
  {
   "cell_type": "code",
   "execution_count": 20,
   "metadata": {},
   "outputs": [],
   "source": [
    "df=df.dropna(subset=[\"keep_drop\"])"
   ]
  },
  {
   "cell_type": "code",
   "execution_count": 21,
   "metadata": {},
   "outputs": [],
   "source": [
    "G=nx.from_pandas_edgelist(df,\"source\",'target', create_using=nx.DiGraph)"
   ]
  },
  {
   "cell_type": "code",
   "execution_count": 22,
   "metadata": {},
   "outputs": [
    {
     "data": {
      "image/png": "[encoded data removed]",
      "text/plain": [
       "<Figure size 432x288 with 1 Axes>"
      ]
     },
     "metadata": {},
     "output_type": "display_data"
    }
   ],
   "source": [
    "nx.draw(G)\n"
   ]
  },
  {
   "cell_type": "markdown",
   "metadata": {},
   "source": [
    "Converting to csv for use in section 2"
   ]
  },
  {
   "cell_type": "code",
   "execution_count": 23,
   "metadata": {},
   "outputs": [],
   "source": [
    "df.to_csv('gephi_data.csv')"
   ]
  },
  {
   "cell_type": "code",
   "execution_count": 24,
   "metadata": {},
   "outputs": [
    {
     "data": {
      "text/html": [
       "<div>\n",
       "<style scoped>\n",
       "    .dataframe tbody tr th:only-of-type {\n",
       "        vertical-align: middle;\n",
       "    }\n",
       "\n",
       "    .dataframe tbody tr th {\n",
       "        vertical-align: top;\n",
       "    }\n",
       "\n",
       "    .dataframe thead th {\n",
       "        text-align: right;\n",
       "    }\n",
       "</style>\n",
       "<table border=\"1\" class=\"dataframe\">\n",
       "  <thead>\n",
       "    <tr style=\"text-align: right;\">\n",
       "      <th></th>\n",
       "      <th>user_id</th>\n",
       "      <th>number_of_ticks</th>\n",
       "      <th>date_created</th>\n",
       "      <th>chapter</th>\n",
       "      <th>book</th>\n",
       "      <th>numberofentriesofbook</th>\n",
       "      <th>numberofusersofbook</th>\n",
       "      <th>product_manning_id</th>\n",
       "      <th>user_owns_book</th>\n",
       "      <th>source</th>\n",
       "      <th>target</th>\n",
       "      <th>user_check</th>\n",
       "      <th>keep_drop</th>\n",
       "    </tr>\n",
       "  </thead>\n",
       "  <tbody>\n",
       "    <tr>\n",
       "      <th>1</th>\n",
       "      <td>-2146355313</td>\n",
       "      <td>8</td>\n",
       "      <td>\"2019-12-14 10:05:50\"</td>\n",
       "      <td>chapter-8</td>\n",
       "      <td>fain3</td>\n",
       "      <td>737</td>\n",
       "      <td>225</td>\n",
       "      <td>1069</td>\n",
       "      <td>1</td>\n",
       "      <td>fain3</td>\n",
       "      <td>ramamurthy</td>\n",
       "      <td>-2.146355e+09</td>\n",
       "      <td>-2.146355e+09</td>\n",
       "    </tr>\n",
       "    <tr>\n",
       "      <th>2</th>\n",
       "      <td>-2146355313</td>\n",
       "      <td>8</td>\n",
       "      <td>\"2019-12-14 10:05:50\"</td>\n",
       "      <td>chapter-1</td>\n",
       "      <td>ramamurthy</td>\n",
       "      <td>715</td>\n",
       "      <td>202</td>\n",
       "      <td>1120</td>\n",
       "      <td>1</td>\n",
       "      <td>ramamurthy</td>\n",
       "      <td>thomas</td>\n",
       "      <td>-2.146355e+09</td>\n",
       "      <td>-2.146355e+09</td>\n",
       "    </tr>\n",
       "    <tr>\n",
       "      <th>29</th>\n",
       "      <td>-2145886989</td>\n",
       "      <td>10</td>\n",
       "      <td>\"2019-12-10 13:07:05\"</td>\n",
       "      <td>chapter-4</td>\n",
       "      <td>mcnamara</td>\n",
       "      <td>2533</td>\n",
       "      <td>461</td>\n",
       "      <td>880</td>\n",
       "      <td>1</td>\n",
       "      <td>mcnamara</td>\n",
       "      <td>mcnamara</td>\n",
       "      <td>-2.145887e+09</td>\n",
       "      <td>-2.145887e+09</td>\n",
       "    </tr>\n",
       "    <tr>\n",
       "      <th>32</th>\n",
       "      <td>-2145886989</td>\n",
       "      <td>10</td>\n",
       "      <td>\"2019-12-10 13:41:25\"</td>\n",
       "      <td>chapter-4</td>\n",
       "      <td>mcnamara</td>\n",
       "      <td>2533</td>\n",
       "      <td>461</td>\n",
       "      <td>880</td>\n",
       "      <td>1</td>\n",
       "      <td>mcnamara</td>\n",
       "      <td>mcnamara</td>\n",
       "      <td>-2.145887e+09</td>\n",
       "      <td>-2.145887e+09</td>\n",
       "    </tr>\n",
       "    <tr>\n",
       "      <th>7</th>\n",
       "      <td>-2145886989</td>\n",
       "      <td>1</td>\n",
       "      <td>\"2019-12-10 19:37:20\"</td>\n",
       "      <td>chapter-1</td>\n",
       "      <td>mcnamara</td>\n",
       "      <td>2533</td>\n",
       "      <td>461</td>\n",
       "      <td>880</td>\n",
       "      <td>1</td>\n",
       "      <td>mcnamara</td>\n",
       "      <td>mcnamara</td>\n",
       "      <td>-2.145887e+09</td>\n",
       "      <td>-2.145887e+09</td>\n",
       "    </tr>\n",
       "    <tr>\n",
       "      <th>...</th>\n",
       "      <td>...</td>\n",
       "      <td>...</td>\n",
       "      <td>...</td>\n",
       "      <td>...</td>\n",
       "      <td>...</td>\n",
       "      <td>...</td>\n",
       "      <td>...</td>\n",
       "      <td>...</td>\n",
       "      <td>...</td>\n",
       "      <td>...</td>\n",
       "      <td>...</td>\n",
       "      <td>...</td>\n",
       "      <td>...</td>\n",
       "    </tr>\n",
       "    <tr>\n",
       "      <th>4989</th>\n",
       "      <td>-2019295583</td>\n",
       "      <td>6</td>\n",
       "      <td>\"2019-12-07 16:00:11\"</td>\n",
       "      <td>chapter-1</td>\n",
       "      <td>roestenburg</td>\n",
       "      <td>344</td>\n",
       "      <td>65</td>\n",
       "      <td>486</td>\n",
       "      <td>0</td>\n",
       "      <td>roestenburg</td>\n",
       "      <td>roestenburg</td>\n",
       "      <td>-2.019296e+09</td>\n",
       "      <td>-2.019296e+09</td>\n",
       "    </tr>\n",
       "    <tr>\n",
       "      <th>4990</th>\n",
       "      <td>-2019295583</td>\n",
       "      <td>10</td>\n",
       "      <td>\"2019-12-07 16:09:21\"</td>\n",
       "      <td>chapter-1</td>\n",
       "      <td>roestenburg</td>\n",
       "      <td>344</td>\n",
       "      <td>65</td>\n",
       "      <td>486</td>\n",
       "      <td>0</td>\n",
       "      <td>roestenburg</td>\n",
       "      <td>roestenburg</td>\n",
       "      <td>-2.019296e+09</td>\n",
       "      <td>-2.019296e+09</td>\n",
       "    </tr>\n",
       "    <tr>\n",
       "      <th>4991</th>\n",
       "      <td>-2019295583</td>\n",
       "      <td>102</td>\n",
       "      <td>\"2019-12-07 16:14:21\"</td>\n",
       "      <td>chapter-1</td>\n",
       "      <td>roestenburg</td>\n",
       "      <td>344</td>\n",
       "      <td>65</td>\n",
       "      <td>486</td>\n",
       "      <td>0</td>\n",
       "      <td>roestenburg</td>\n",
       "      <td>roestenburg</td>\n",
       "      <td>-2.019296e+09</td>\n",
       "      <td>-2.019296e+09</td>\n",
       "    </tr>\n",
       "    <tr>\n",
       "      <th>4992</th>\n",
       "      <td>-2019295583</td>\n",
       "      <td>107</td>\n",
       "      <td>\"2019-12-07 17:51:22\"</td>\n",
       "      <td>chapter-1</td>\n",
       "      <td>roestenburg</td>\n",
       "      <td>344</td>\n",
       "      <td>65</td>\n",
       "      <td>486</td>\n",
       "      <td>0</td>\n",
       "      <td>roestenburg</td>\n",
       "      <td>roestenburg</td>\n",
       "      <td>-2.019296e+09</td>\n",
       "      <td>-2.019296e+09</td>\n",
       "    </tr>\n",
       "    <tr>\n",
       "      <th>4993</th>\n",
       "      <td>-2019295583</td>\n",
       "      <td>98</td>\n",
       "      <td>\"2019-12-07 20:54:58\"</td>\n",
       "      <td>chapter-1</td>\n",
       "      <td>roestenburg</td>\n",
       "      <td>344</td>\n",
       "      <td>65</td>\n",
       "      <td>486</td>\n",
       "      <td>0</td>\n",
       "      <td>roestenburg</td>\n",
       "      <td>roestenburg</td>\n",
       "      <td>-2.019296e+09</td>\n",
       "      <td>-2.019296e+09</td>\n",
       "    </tr>\n",
       "  </tbody>\n",
       "</table>\n",
       "<p>4358 rows × 13 columns</p>\n",
       "</div>"
      ],
      "text/plain": [
       "         user_id  number_of_ticks            date_created     chapter  \\\n",
       "1    -2146355313                8   \"2019-12-14 10:05:50\"   chapter-8   \n",
       "2    -2146355313                8   \"2019-12-14 10:05:50\"   chapter-1   \n",
       "29   -2145886989               10   \"2019-12-10 13:07:05\"   chapter-4   \n",
       "32   -2145886989               10   \"2019-12-10 13:41:25\"   chapter-4   \n",
       "7    -2145886989                1   \"2019-12-10 19:37:20\"   chapter-1   \n",
       "...          ...              ...                     ...         ...   \n",
       "4989 -2019295583                6   \"2019-12-07 16:00:11\"   chapter-1   \n",
       "4990 -2019295583               10   \"2019-12-07 16:09:21\"   chapter-1   \n",
       "4991 -2019295583              102   \"2019-12-07 16:14:21\"   chapter-1   \n",
       "4992 -2019295583              107   \"2019-12-07 17:51:22\"   chapter-1   \n",
       "4993 -2019295583               98   \"2019-12-07 20:54:58\"   chapter-1   \n",
       "\n",
       "             book  numberofentriesofbook  numberofusersofbook  \\\n",
       "1           fain3                    737                  225   \n",
       "2      ramamurthy                    715                  202   \n",
       "29       mcnamara                   2533                  461   \n",
       "32       mcnamara                   2533                  461   \n",
       "7        mcnamara                   2533                  461   \n",
       "...           ...                    ...                  ...   \n",
       "4989  roestenburg                    344                   65   \n",
       "4990  roestenburg                    344                   65   \n",
       "4991  roestenburg                    344                   65   \n",
       "4992  roestenburg                    344                   65   \n",
       "4993  roestenburg                    344                   65   \n",
       "\n",
       "      product_manning_id  user_owns_book       source       target  \\\n",
       "1                   1069               1        fain3   ramamurthy   \n",
       "2                   1120               1   ramamurthy       thomas   \n",
       "29                   880               1     mcnamara     mcnamara   \n",
       "32                   880               1     mcnamara     mcnamara   \n",
       "7                    880               1     mcnamara     mcnamara   \n",
       "...                  ...             ...          ...          ...   \n",
       "4989                 486               0  roestenburg  roestenburg   \n",
       "4990                 486               0  roestenburg  roestenburg   \n",
       "4991                 486               0  roestenburg  roestenburg   \n",
       "4992                 486               0  roestenburg  roestenburg   \n",
       "4993                 486               0  roestenburg  roestenburg   \n",
       "\n",
       "        user_check     keep_drop  \n",
       "1    -2.146355e+09 -2.146355e+09  \n",
       "2    -2.146355e+09 -2.146355e+09  \n",
       "29   -2.145887e+09 -2.145887e+09  \n",
       "32   -2.145887e+09 -2.145887e+09  \n",
       "7    -2.145887e+09 -2.145887e+09  \n",
       "...            ...           ...  \n",
       "4989 -2.019296e+09 -2.019296e+09  \n",
       "4990 -2.019296e+09 -2.019296e+09  \n",
       "4991 -2.019296e+09 -2.019296e+09  \n",
       "4992 -2.019296e+09 -2.019296e+09  \n",
       "4993 -2.019296e+09 -2.019296e+09  \n",
       "\n",
       "[4358 rows x 13 columns]"
      ]
     },
     "execution_count": 24,
     "metadata": {},
     "output_type": "execute_result"
    }
   ],
   "source": [
    "df"
   ]
  },
  {
   "cell_type": "code",
   "execution_count": null,
   "metadata": {},
   "outputs": [],
   "source": []
  },
  {
   "cell_type": "code",
   "execution_count": null,
   "metadata": {},
   "outputs": [],
   "source": []
  },
  {
   "cell_type": "code",
   "execution_count": null,
   "metadata": {},
   "outputs": [],
   "source": []
  },
  {
   "cell_type": "code",
   "execution_count": null,
   "metadata": {},
   "outputs": [],
   "source": []
  },
  {
   "cell_type": "code",
   "execution_count": null,
   "metadata": {},
   "outputs": [],
   "source": []
  },
  {
   "cell_type": "code",
   "execution_count": null,
   "metadata": {},
   "outputs": [],
   "source": []
  },
  {
   "cell_type": "code",
   "execution_count": null,
   "metadata": {},
   "outputs": [],
   "source": [
    "\n"
   ]
  },
  {
   "cell_type": "code",
   "execution_count": null,
   "metadata": {},
   "outputs": [],
   "source": []
  },
  {
   "cell_type": "code",
   "execution_count": null,
   "metadata": {},
   "outputs": [],
   "source": []
  },
  {
   "cell_type": "code",
   "execution_count": null,
   "metadata": {},
   "outputs": [],
   "source": []
  },
  {
   "cell_type": "code",
   "execution_count": null,
   "metadata": {},
   "outputs": [],
   "source": []
  },
  {
   "cell_type": "code",
   "execution_count": null,
   "metadata": {},
   "outputs": [],
   "source": []
  },
  {
   "cell_type": "code",
   "execution_count": null,
   "metadata": {},
   "outputs": [],
   "source": []
  },
  {
   "cell_type": "code",
   "execution_count": null,
   "metadata": {},
   "outputs": [],
   "source": []
  },
  {
   "cell_type": "code",
   "execution_count": null,
   "metadata": {},
   "outputs": [],
   "source": []
  },
  {
   "cell_type": "code",
   "execution_count": null,
   "metadata": {},
   "outputs": [],
   "source": []
  },
  {
   "cell_type": "code",
   "execution_count": null,
   "metadata": {},
   "outputs": [],
   "source": []
  },
  {
   "cell_type": "code",
   "execution_count": null,
   "metadata": {},
   "outputs": [],
   "source": [
    "\n"
   ]
  },
  {
   "cell_type": "code",
   "execution_count": null,
   "metadata": {},
   "outputs": [],
   "source": []
  },
  {
   "cell_type": "code",
   "execution_count": null,
   "metadata": {},
   "outputs": [],
   "source": []
  },
  {
   "cell_type": "code",
   "execution_count": null,
   "metadata": {},
   "outputs": [],
   "source": []
  },
  {
   "cell_type": "code",
   "execution_count": null,
   "metadata": {},
   "outputs": [],
   "source": []
  },
  {
   "cell_type": "code",
   "execution_count": null,
   "metadata": {},
   "outputs": [],
   "source": []
  },
  {
   "cell_type": "code",
   "execution_count": null,
   "metadata": {},
   "outputs": [],
   "source": []
  },
  {
   "cell_type": "code",
   "execution_count": null,
   "metadata": {},
   "outputs": [],
   "source": []
  },
  {
   "cell_type": "code",
   "execution_count": null,
   "metadata": {},
   "outputs": [],
   "source": []
  },
  {
   "cell_type": "code",
   "execution_count": null,
   "metadata": {},
   "outputs": [],
   "source": []
  },
  {
   "cell_type": "code",
   "execution_count": null,
   "metadata": {},
   "outputs": [],
   "source": []
  },
  {
   "cell_type": "code",
   "execution_count": null,
   "metadata": {},
   "outputs": [],
   "source": []
  },
  {
   "cell_type": "code",
   "execution_count": null,
   "metadata": {},
   "outputs": [],
   "source": []
  },
  {
   "cell_type": "code",
   "execution_count": null,
   "metadata": {},
   "outputs": [],
   "source": []
  },
  {
   "cell_type": "code",
   "execution_count": null,
   "metadata": {},
   "outputs": [],
   "source": []
  }
 ],
 "metadata": {
  "kernelspec": {
   "display_name": "Python 3",
   "language": "python",
   "name": "python3"
  },
  "language_info": {
   "codemirror_mode": {
    "name": "ipython",
    "version": 3
   },
   "file_extension": ".py",
   "mimetype": "text/x-python",
   "name": "python",
   "nbconvert_exporter": "python",
   "pygments_lexer": "ipython3",
   "version": "3.8.3"
  }
 },
 "nbformat": 4,
 "nbformat_minor": 2
}
